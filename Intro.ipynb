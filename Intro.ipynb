{
 "cells": [
  {
   "cell_type": "code",
   "execution_count": 12,
   "metadata": {
    "collapsed": false
   },
   "outputs": [],
   "source": [
    "import tensorflow as tf\n",
    "import numpy as np"
   ]
  },
  {
   "cell_type": "code",
   "execution_count": 14,
   "metadata": {
    "collapsed": false
   },
   "outputs": [],
   "source": [
    "# make 100 phony data points\n",
    "x_data = np.float32(np.random.rand(2, 100)) # random input\n",
    "y_data = np.dot([0.100, 0.200], x_data) + 0.300"
   ]
  },
  {
   "cell_type": "code",
   "execution_count": 16,
   "metadata": {
    "collapsed": false
   },
   "outputs": [],
   "source": [
    "#construct a linear model\n",
    "b = tf.Variable(tf.zeros([1]))\n",
    "W = tf.Variable(tf.random_uniform([1,2], -1.0, 1.0))\n",
    "y = tf.matmul(W, x_data) + b"
   ]
  },
  {
   "cell_type": "code",
   "execution_count": 18,
   "metadata": {
    "collapsed": false
   },
   "outputs": [],
   "source": [
    "# minimize the squared errors\n",
    "loss = tf.reduce_mean(tf.square(y - y_data))\n",
    "optimizer = tf.train.GradientDescentOptimizer(0.5)\n",
    "train = optimizer.minimize(loss)"
   ]
  },
  {
   "cell_type": "code",
   "execution_count": 19,
   "metadata": {
    "collapsed": true
   },
   "outputs": [],
   "source": [
    "# for initializing the varaibled\n",
    "init = tf.initialize_all_variables()"
   ]
  },
  {
   "cell_type": "code",
   "execution_count": 20,
   "metadata": {
    "collapsed": true
   },
   "outputs": [],
   "source": [
    "#launch graph\n",
    "sess = tf.Session()\n",
    "sess.run(init)"
   ]
  },
  {
   "cell_type": "code",
   "execution_count": 21,
   "metadata": {
    "collapsed": false
   },
   "outputs": [
    {
     "name": "stdout",
     "output_type": "stream",
     "text": [
      "0 [[-0.21298943  0.95906568]] [ 0.10920265]\n",
      "20 [[ 0.02107751  0.34278354]] [ 0.2654582]\n",
      "40 [[ 0.08045294  0.22752331]] [ 0.29581207]\n",
      "60 [[ 0.09497916  0.20530643]] [ 0.29990649]\n",
      "80 [[ 0.09866997  0.20102336]] [ 0.30018821]\n",
      "100 [[ 0.0996389   0.20019744]] [ 0.30009589]\n",
      "120 [[ 0.09990013  0.20003809]] [ 0.30003572]\n",
      "140 [[ 0.099972    0.20000735]] [ 0.30001187]\n",
      "160 [[ 0.09999206  0.20000142]] [ 0.30000374]\n",
      "180 [[ 0.09999774  0.20000029]] [ 0.30000114]\n",
      "200 [[ 0.09999935  0.20000005]] [ 0.30000034]\n"
     ]
    }
   ],
   "source": [
    "# fit the plane.\n",
    "for step in xrange(0,201):\n",
    "    sess.run(train)\n",
    "    if step % 20 == 0:\n",
    "        print step,sess.run(W), sess.run(b)\n",
    "        \n",
    "        "
   ]
  },
  {
   "cell_type": "code",
   "execution_count": null,
   "metadata": {
    "collapsed": true
   },
   "outputs": [],
   "source": []
  }
 ],
 "metadata": {
  "kernelspec": {
   "display_name": "Python 2",
   "language": "python",
   "name": "python2"
  },
  "language_info": {
   "codemirror_mode": {
    "name": "ipython",
    "version": 2
   },
   "file_extension": ".py",
   "mimetype": "text/x-python",
   "name": "python",
   "nbconvert_exporter": "python",
   "pygments_lexer": "ipython2",
   "version": "2.7.10"
  }
 },
 "nbformat": 4,
 "nbformat_minor": 0
}
